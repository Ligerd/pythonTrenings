{
 "cells": [
  {
   "cell_type": "markdown",
   "id": "e48029de",
   "metadata": {},
   "source": [
    "# Założenia\n",
    "W tym rozdziale przedstawie ogólne załozenia projektowe.\n",
    "Na stronie MediaMarkt zjadowały się następujące parametry laptopów: Monitor, RAM, Dysk, GPU, System i Cena. Jednak na stronie Morele nie były podane dane o dysku oraz w niektórych laptopach, jak Apple, nie był podany układ graficzny oraz rozmiar dysku (była tylko możliwość wyboru rozwiaru dysku po kliknęciu w ten laptop). Więc przyjęłam takie założenia, że identifikuję laptopy według pełnej zgodności nazw i wielkości parametrów. \n"
   ]
  },
  {
   "cell_type": "code",
   "execution_count": 23,
   "id": "65e2f79f",
   "metadata": {},
   "outputs": [],
   "source": [
    "from selenium import webdriver\n",
    "import pandas as pd\n",
    "from webdriver_manager.chrome import ChromeDriverManager\n",
    "from webdriver_manager.firefox import GeckoDriverManager\n",
    "from bs4 import BeautifulSoup\n",
    "from selenium.webdriver.common.by import By\n",
    "import re\n",
    "from pyjarowinkler import distance"
   ]
  },
  {
   "cell_type": "code",
   "execution_count": 2,
   "id": "d602822d",
   "metadata": {},
   "outputs": [],
   "source": [
    "def parseMediaMarktPage(driver,columns) -> list:\n",
    "    full_object = driver.find_elements_by_xpath(\"//*[@class='m-offerBox_contentInner']\")\n",
    "    prices_objects = driver.find_elements_by_xpath(\"//*[@class='m-offerBox_pricing']\")\n",
    "    outPuts = [[] for i in range(len(columns))]\n",
    "    for index in range(len(full_object)):\n",
    "        title = parseTitleMediaMarkt(full_object[index])\n",
    "        price = prices_objects[index].find_element_by_class_name(\"m-priceBox_price\").text.split(',')[0]\n",
    "        outPuts[0].append(title)\n",
    "        outPuts[-1].append(price)\n",
    "        ulBlock = full_object[index].find_element_by_class_name(\"b-ofr_boxDataItem.is-tech\")\n",
    "        liBlocks = ulBlock.find_elements_by_tag_name(\"li\")\n",
    "        if len(liBlocks)== 0 or len(liBlocks)!=len(columns[1:-1]):\n",
    "            for index in range(1,len(columns)-1):\n",
    "                outPuts[index].append(None)\n",
    "        else:\n",
    "            for indexli in range(0,len(liBlocks)):\n",
    "                textOfLiBlock = liBlocks[indexli].find_element_by_tag_name(\"strong\").get_attribute(\"innerHTML\")\n",
    "                outPuts[indexli+1].append(' '.join(textOfLiBlock.split()))\n",
    "    return outPuts"
   ]
  },
  {
   "cell_type": "code",
   "execution_count": 3,
   "id": "c549ca48",
   "metadata": {},
   "outputs": [],
   "source": [
    "def parseTitleMediaMarkt(driver)->str:\n",
    "    spliteteTitele = driver.find_element_by_tag_name('a').text.split('/')\n",
    "    if spliteteTitele[0]==\"Laptop\":\n",
    "        return \" \".join(spliteteTitele[:2]).replace(\"Laptop\", \"\", 1).strip()\n",
    "    else:\n",
    "        return \"\".join(spliteteTitele[:1]).replace(\"Laptop\", \"\", 1).strip()"
   ]
  },
  {
   "cell_type": "code",
   "execution_count": 39,
   "id": "d9766470",
   "metadata": {},
   "outputs": [],
   "source": [
    "def parseMediamarktPage():\n",
    "    driver = webdriver.Firefox(executable_path=GeckoDriverManager().install())\n",
    "    url = \"https://mediamarkt.pl/komputery-i-tablety/laptopy-laptopy-2-w-1/notebooki\"\n",
    "    driver.get(url)\n",
    "    html = driver.page_source\n",
    "    soup = BeautifulSoup(html, \"html.parser\")\n",
    "    pagination = soup('span',{'class': \"m-pagination_count\"})[0].text.split()[1]\n",
    "    column_names = [\"Title\",'Monitor', 'Processor', 'RAM', \"Dysk\",\"GPU\",\"System\", \"Prices\"]\n",
    "    df = pd.DataFrame(columns = column_names)\n",
    "    for i in range(1,int(pagination)+1):\n",
    "        if i == 1:\n",
    "            paramsofLaptops = parseMediaMarktPage(driver,column_names)\n",
    "            df = df.append(pd.DataFrame(dict(zip(column_names, paramsofLaptops))), ignore_index = True)\n",
    "        else:\n",
    "            driver.get(url+ \"?page=\"+str(i))\n",
    "            paramsofLaptops = parseMediaMarktPage(driver,column_names)\n",
    "            df = df.append(pd.DataFrame(dict(zip(column_names, paramsofLaptops))), ignore_index = True)\n",
    "    df = df.sort_values('Title').reset_index(drop=True)\n",
    "    df.to_csv(\"MediaMarkt_Laptops.csv\")\n",
    "    driver.quit()\n",
    "    return df"
   ]
  },
  {
   "cell_type": "code",
   "execution_count": 6,
   "id": "2323b2b1",
   "metadata": {},
   "outputs": [
    {
     "name": "stderr",
     "output_type": "stream",
     "text": [
      "\n",
      "\n",
      "====== WebDriver manager ======\n",
      "Current firefox version is 89.0.1\n",
      "Get LATEST driver version for 89.0.1\n",
      "Driver [/home/ligerd/.wdm/drivers/geckodriver/linux64/v0.29.1/geckodriver] found in cache\n"
     ]
    }
   ],
   "source": [
    "dff = parseMediamarktPage()"
   ]
  },
  {
   "cell_type": "markdown",
   "id": "51055f05",
   "metadata": {},
   "source": [
    "# MORELE"
   ]
  },
  {
   "cell_type": "code",
   "execution_count": 7,
   "id": "4fe3b842",
   "metadata": {},
   "outputs": [],
   "source": [
    "def getNumberOfPagesMorele(driver) -> int: \n",
    "    numbrOfPagesStr= driver.find_element_by_class_name('pagination-btn-nolink-anchor').text\n",
    "    return int(numbrOfPagesStr)"
   ]
  },
  {
   "cell_type": "code",
   "execution_count": 8,
   "id": "d9e163f5",
   "metadata": {},
   "outputs": [],
   "source": [
    "def getPropertiesOfLaptops(driver) -> list: \n",
    "    return driver.find_elements_by_class_name(\"cat-product-features\")"
   ]
  },
  {
   "cell_type": "code",
   "execution_count": 37,
   "id": "e1ce41a4",
   "metadata": {},
   "outputs": [],
   "source": [
    "def getPricesOfLaptops(driver) -> list:\n",
    "    pricesDiv = driver.find_elements_by_class_name(\"price-new\")\n",
    "    regexExp = \"[^\\d\\,]\"\n",
    "    prices = []\n",
    "    for price in pricesDiv:\n",
    "        clearPrice = re.sub(regexExp,\"\",price.text).replace(',',\".\")\n",
    "        prices.append(float(clearPrice))\n",
    "    return prices\n",
    "        "
   ]
  },
  {
   "cell_type": "code",
   "execution_count": 40,
   "id": "10535528",
   "metadata": {},
   "outputs": [],
   "source": [
    "def parceProperties(laptopInformationDiv, columns) -> list:\n",
    "    outPuts = [[] for i in range(len(columns[:-1]))]\n",
    "    for divPropertiesOfLaptop in laptopInformationDiv:\n",
    "        propertiesOfLaptop = divPropertiesOfLaptop.find_elements_by_class_name(\"cat-product-feature\")\n",
    "        outPuts[0].append(getTitleOfLaptopOnPage(divPropertiesOfLaptop))\n",
    "        for propertyIndex in range(1,len(outPuts)) :\n",
    "            if len(propertiesOfLaptop)== 5:\n",
    "                outPuts[propertyIndex].append(propertiesOfLaptop[propertyIndex-1].get_attribute(\"title\"))\n",
    "            else:\n",
    "                outPuts[propertyIndex].append(None)\n",
    "    return outPuts"
   ]
  },
  {
   "cell_type": "code",
   "execution_count": 41,
   "id": "5eb636ae",
   "metadata": {},
   "outputs": [],
   "source": [
    "def getTitlesOfLaptopsOnPage(driver) -> list:\n",
    "    return [ title.text.split('(')[0][:-1]  for title in driver.find_elements_by_xpath(\"//*[@class='cat-product-name']/a\")]"
   ]
  },
  {
   "cell_type": "code",
   "execution_count": 42,
   "id": "955a7534",
   "metadata": {},
   "outputs": [],
   "source": [
    "def getTitleOfLaptopOnPage(driver):\n",
    "    return driver.find_element_by_class_name(\"productLink\").text.split(\"/\")[0].replace(\"Laptop \",\"\",1)"
   ]
  },
  {
   "cell_type": "code",
   "execution_count": 13,
   "id": "568d655d",
   "metadata": {},
   "outputs": [],
   "source": [
    "def getLaptopInformationDiv(driver)-> list:\n",
    "    return driver.find_elements_by_class_name(\"cat-product-center-inside\")"
   ]
  },
  {
   "cell_type": "code",
   "execution_count": 43,
   "id": "5d192f8a",
   "metadata": {},
   "outputs": [],
   "source": [
    "def parseMorelo():\n",
    "    driver = webdriver.Firefox(executable_path=GeckoDriverManager().install())\n",
    "    url = \"https://www.morele.net/kategoria/laptopy-31/\"\n",
    "    driver.get(url)\n",
    "    pagination = getNumberOfPagesMorele(driver)\n",
    "    column_names = [\"Title\",'GPU', 'RAM', \"Processor\",\"Monitor\",\"System\", \"Prices\"]\n",
    "    df = pd.DataFrame(columns = column_names)\n",
    "    for i in range(1,int(pagination)):\n",
    "        if i == 1:\n",
    "            prices = getPricesOfLaptops(driver)\n",
    "            paramsofLaptops = parceProperties(getLaptopInformationDiv(driver),column_names)\n",
    "            paramsofLaptops = paramsofLaptops + [prices]\n",
    "            df = df.append(pd.DataFrame(dict(zip(column_names, paramsofLaptops))), ignore_index = True)\n",
    "        else:\n",
    "            driver.get(url+ \",,,,,,,,0,,,,/\"+str(i)+\"/\")\n",
    "            prices = getPricesOfLaptops(driver)\n",
    "            paramsofLaptops = parceProperties(getLaptopInformationDiv(driver),column_names)\n",
    "            paramsofLaptops = paramsofLaptops + [prices]\n",
    "            df = df.append(pd.DataFrame(dict(zip(column_names, paramsofLaptops))), ignore_index = True)\n",
    "    df = df.sort_values('Title').reset_index(drop=True)\n",
    "    df.to_csv(\"Morelo_Laptops.csv\")\n",
    "    driver.quit()\n",
    "    return df"
   ]
  },
  {
   "cell_type": "code",
   "execution_count": 24,
   "id": "73d282db",
   "metadata": {},
   "outputs": [],
   "source": [
    "morelo = parseMorelo()"
   ]
  },
  {
   "cell_type": "markdown",
   "id": "da7ee30a",
   "metadata": {},
   "source": [
    "# Find similarity"
   ]
  },
  {
   "cell_type": "code",
   "execution_count": 5,
   "id": "dfa9c99e",
   "metadata": {},
   "outputs": [],
   "source": [
    "mediaMarkt = pd.read_csv('MediaMarkt_Laptops.csv',index_col=0)\n",
    "morelo = pd.read_csv('Morelo_Laptops.csv',index_col=0)"
   ]
  },
  {
   "cell_type": "code",
   "execution_count": 15,
   "id": "2dab10c3",
   "metadata": {},
   "outputs": [],
   "source": [
    "def identifySameLaptops(baseDf, targetDf,similarity):\n",
    "    sameLaptoptBase = pd.DataFrame(columns=baseDf.columns)\n",
    "    sameLaptoptTarge = pd.DataFrame(columns=targetDf.columns)\n",
    "    for index, rowbaseDf in baseDf.iterrows():\n",
    "        brand = extractLaptopBrand(rowbaseDf.Title)\n",
    "        laptopsForBrand= targetDf[targetDf['Title'].str.contains(brand,case=False)]        \n",
    "        for indexTarget, rowTargetDf in laptopsForBrand.iterrows():\n",
    "            titleSimilarity = distance.get_jaro_distance(rowbaseDf.Title,rowTargetDf.Title, winkler=True, scaling=0.1)\n",
    "            if titleSimilarity>similarity:\n",
    "                if compareParams(rowbaseDf,rowTargetDf):\n",
    "                    sameLaptoptBase = sameLaptoptBase.append(pd.DataFrame([rowbaseDf]))\n",
    "                    sameLaptoptTarge = sameLaptoptTarge.append(pd.DataFrame([rowTargetDf]))\n",
    "    dfOut = concateResultIndentifycation(sameLaptoptBase, sameLaptoptTarge)\n",
    "#     sameLaptoptBase = sameLaptoptBase.drop_duplicates('Title')\n",
    "    sameLaptoptBase.to_csv(\"IdentifyMediaMarkt.csv\")\n",
    "    sameLaptoptTarge.to_csv(\"IdentifyMorele.csv\")\n",
    "    dfOut.to_csv(\"LaptopIdentification.csv\")\n",
    "    return dfOut"
   ]
  },
  {
   "cell_type": "code",
   "execution_count": 7,
   "id": "0aa7240d",
   "metadata": {},
   "outputs": [],
   "source": [
    "def concateResultIndentifycation(base, target):\n",
    "    base.rename(columns = {\"Prices\": \"PriceMediaMarkt\"}, inplace = True)\n",
    "    base = base.reset_index(drop=True)\n",
    "    target = target.reset_index(drop=True)\n",
    "    base['PriceMorele'] = target[\"Prices\"]\n",
    "#     return base.sort_values('PriceMorele', ascending=True).drop_duplicates('Title').sort_index().reset_index(drop=True)\n",
    "    return base"
   ]
  },
  {
   "cell_type": "code",
   "execution_count": 8,
   "id": "6a0bd306",
   "metadata": {},
   "outputs": [],
   "source": [
    "def extractLaptopBrand(title:str)->str:\n",
    "    titleList = title.split()\n",
    "    if titleList[0]==\"2w1\":\n",
    "        return titleList[1]\n",
    "    else:\n",
    "        return titleList[0]"
   ]
  },
  {
   "cell_type": "code",
   "execution_count": 22,
   "id": "ce7cdbd6",
   "metadata": {},
   "outputs": [],
   "source": [
    "def prepareProcFormat(proc:str)->str:\n",
    "    return re.sub('[™®]', '', proc)"
   ]
  },
  {
   "cell_type": "code",
   "execution_count": 10,
   "id": "25746ad2",
   "metadata": {},
   "outputs": [],
   "source": [
    "def prepareGPUFormat(gpu:str)->str:\n",
    "    notAllowdWords = [\"Laptop\",\"GPU\"]\n",
    "    for notAllowdWord in notAllowdWords:\n",
    "        gpu = gpu.replace(notAllowdWord, '')\n",
    "    return gpu.strip()"
   ]
  },
  {
   "cell_type": "code",
   "execution_count": 18,
   "id": "ef1cfdb6",
   "metadata": {},
   "outputs": [],
   "source": [
    "def compareGpu(baseGpu:str, targetGpu:str)->bool:\n",
    "#     if baseGpu == \"Brak\" or targetGpu == \"Brak\":\n",
    "#         return True\n",
    "#     else:\n",
    "    return prepareGPUFormat(targetGpu) in baseGpu\n",
    "\n",
    "def compareRAM(baseRAM:str, targetRAM:str)->bool:\n",
    "    return targetRAM in baseRAM\n",
    "\n",
    "def compareMonitor(baseMonitor:str , targetMonitor:str)->bool:\n",
    "    return targetMonitor in baseMonitor\n",
    "\n",
    "def compareSystem(baseSys:str,targetSys:str)->bool:\n",
    "    return targetSys in baseSys\n",
    "\n",
    "def compareProcessors(baseProc:str, TargetProc:str)->bool:\n",
    "    return TargetProc in baseProc"
   ]
  },
  {
   "cell_type": "code",
   "execution_count": 19,
   "id": "650c128b",
   "metadata": {},
   "outputs": [],
   "source": [
    "def compareParams(base, target)->bool:\n",
    "    if compareProcessors(prepareProcFormat(base.Processor),target.Processor):\n",
    "        if compareGpu(base.GPU,target.GPU):\n",
    "            if compareRAM(base.RAM, target.RAM):\n",
    "                if compareMonitor(base.Monitor, target.Monitor):\n",
    "                    if compareSystem(base.System, target.System):\n",
    "                        return True\n",
    "                    else: \n",
    "                        return False\n",
    "                else:\n",
    "                    return False\n",
    "            else:\n",
    "                return False\n",
    "        else: \n",
    "            return False\n",
    "    else:\n",
    "        return False"
   ]
  },
  {
   "cell_type": "code",
   "execution_count": 25,
   "id": "d04d0ba0",
   "metadata": {
    "scrolled": false
   },
   "outputs": [],
   "source": [
    "itdentify=identifySameLaptops(mediaMarkt,morelo,0.90)"
   ]
  },
  {
   "cell_type": "code",
   "execution_count": 26,
   "id": "ab463914",
   "metadata": {},
   "outputs": [
    {
     "data": {
      "text/html": [
       "<div>\n",
       "<style scoped>\n",
       "    .dataframe tbody tr th:only-of-type {\n",
       "        vertical-align: middle;\n",
       "    }\n",
       "\n",
       "    .dataframe tbody tr th {\n",
       "        vertical-align: top;\n",
       "    }\n",
       "\n",
       "    .dataframe thead th {\n",
       "        text-align: right;\n",
       "    }\n",
       "</style>\n",
       "<table border=\"1\" class=\"dataframe\">\n",
       "  <thead>\n",
       "    <tr style=\"text-align: right;\">\n",
       "      <th></th>\n",
       "      <th>Title</th>\n",
       "      <th>Monitor</th>\n",
       "      <th>Processor</th>\n",
       "      <th>RAM</th>\n",
       "      <th>Dysk</th>\n",
       "      <th>GPU</th>\n",
       "      <th>System</th>\n",
       "      <th>PriceMediaMarkt</th>\n",
       "      <th>PriceMorele</th>\n",
       "    </tr>\n",
       "  </thead>\n",
       "  <tbody>\n",
       "    <tr>\n",
       "      <th>0</th>\n",
       "      <td>HP Pavilion 15-cs3001nw i5-1035G1</td>\n",
       "      <td>15.6\" (1920 x 1080 (Full HD))</td>\n",
       "      <td>Intel® Core™ i5-1035G1</td>\n",
       "      <td>8 GB DDR4</td>\n",
       "      <td>M.2 PCIe , NVMe , 512 GB</td>\n",
       "      <td>NVIDIA GeForce MX250 2GB GDDR5</td>\n",
       "      <td>Windows 10 Home PL</td>\n",
       "      <td>3199</td>\n",
       "      <td>3099.00</td>\n",
       "    </tr>\n",
       "    <tr>\n",
       "      <th>1</th>\n",
       "      <td>HP Pavilion 15-cs3058nw FHD i5-1035G1</td>\n",
       "      <td>15.6\" (1920 x 1080 (Full HD))</td>\n",
       "      <td>Intel® Core™ i5-1035G1</td>\n",
       "      <td>8 GB DDR4</td>\n",
       "      <td>M.2 PCIe , NVMe , 512 GB</td>\n",
       "      <td>NVIDIA GeForce MX250 2GB GDDR5</td>\n",
       "      <td>Windows 10 Home PL</td>\n",
       "      <td>2599</td>\n",
       "      <td>3567.23</td>\n",
       "    </tr>\n",
       "    <tr>\n",
       "      <th>2</th>\n",
       "      <td>HP Pavilion Gaming 15-dk1056nw FHD i5-10300H</td>\n",
       "      <td>15.6\" (1920 x 1080 (Full HD))</td>\n",
       "      <td>Intel® Core™ i5-10300H</td>\n",
       "      <td>8 GB DDR4</td>\n",
       "      <td>M.2 PCIe , NVMe , 512 GB</td>\n",
       "      <td>NVIDIA GeForce RTX 2060 Max-Q 6 GB GDDR6</td>\n",
       "      <td>Windows 10 Home PL</td>\n",
       "      <td>4899</td>\n",
       "      <td>4518.15</td>\n",
       "    </tr>\n",
       "    <tr>\n",
       "      <th>3</th>\n",
       "      <td>HP Pavilion Gaming 15-dk1056nw FHD i5-10300H</td>\n",
       "      <td>15.6\" (1920 x 1080 (Full HD))</td>\n",
       "      <td>Intel® Core™ i5-10300H</td>\n",
       "      <td>8 GB DDR4</td>\n",
       "      <td>M.2 PCIe , NVMe , 512 GB</td>\n",
       "      <td>NVIDIA GeForce RTX 2060 Max-Q 6 GB GDDR6</td>\n",
       "      <td>Windows 10 Home PL</td>\n",
       "      <td>4899</td>\n",
       "      <td>4199.00</td>\n",
       "    </tr>\n",
       "    <tr>\n",
       "      <th>4</th>\n",
       "      <td>HP Pavilion Gaming 15-ec0045nw FHD Ryzen5-3550H</td>\n",
       "      <td>15.6\" (1920 x 1080 (Full HD))</td>\n",
       "      <td>AMD Ryzen™ 5 3550H</td>\n",
       "      <td>16 GB DDR4</td>\n",
       "      <td>M.2 , NVMe , 512 GB</td>\n",
       "      <td>NVIDIA GeForce GTX 1650 4GB GDDR5</td>\n",
       "      <td>Windows 10 Home PL</td>\n",
       "      <td>4299</td>\n",
       "      <td>3669.18</td>\n",
       "    </tr>\n",
       "    <tr>\n",
       "      <th>5</th>\n",
       "      <td>MSI Prestige 14 A10SC-215PL FHD i5-10210U</td>\n",
       "      <td>14\" (1920 x 1080 (Full HD))</td>\n",
       "      <td>Intel® Core™ i5-10210U</td>\n",
       "      <td>16 GB DDR3</td>\n",
       "      <td>M.2 PCIe , NVMe , 512 GB</td>\n",
       "      <td>NVIDIA GeForce GTX 1650 Max-Q 4GB GDDR5</td>\n",
       "      <td>Windows 10 Home PL</td>\n",
       "      <td>4299</td>\n",
       "      <td>4599.00</td>\n",
       "    </tr>\n",
       "    <tr>\n",
       "      <th>6</th>\n",
       "      <td>MSI Stealth 15M A11SDK-005PL FHD i7-1185G7</td>\n",
       "      <td>15.6\" (1920 x 1080 (Full HD))</td>\n",
       "      <td>Intel® Core™ i7-1185G7</td>\n",
       "      <td>16 GB DDR4</td>\n",
       "      <td>M.2 PCIe , NVMe , 512 GB</td>\n",
       "      <td>NVIDIA GeForce GTX 1660 Ti Max-Q 6 GB GDDR6</td>\n",
       "      <td>Windows 10 Home PL</td>\n",
       "      <td>4999</td>\n",
       "      <td>5405.94</td>\n",
       "    </tr>\n",
       "    <tr>\n",
       "      <th>7</th>\n",
       "      <td>MSI Stealth 15M A11SDK-005PL FHD i7-1185G7</td>\n",
       "      <td>15.6\" (1920 x 1080 (Full HD))</td>\n",
       "      <td>Intel® Core™ i7-1185G7</td>\n",
       "      <td>16 GB DDR4</td>\n",
       "      <td>M.2 PCIe , NVMe , 512 GB</td>\n",
       "      <td>NVIDIA GeForce GTX 1660 Ti Max-Q 6 GB GDDR6</td>\n",
       "      <td>Windows 10 Home PL</td>\n",
       "      <td>4999</td>\n",
       "      <td>5351.34</td>\n",
       "    </tr>\n",
       "  </tbody>\n",
       "</table>\n",
       "</div>"
      ],
      "text/plain": [
       "                                             Title  \\\n",
       "0                HP Pavilion 15-cs3001nw i5-1035G1   \n",
       "1            HP Pavilion 15-cs3058nw FHD i5-1035G1   \n",
       "2     HP Pavilion Gaming 15-dk1056nw FHD i5-10300H   \n",
       "3     HP Pavilion Gaming 15-dk1056nw FHD i5-10300H   \n",
       "4  HP Pavilion Gaming 15-ec0045nw FHD Ryzen5-3550H   \n",
       "5        MSI Prestige 14 A10SC-215PL FHD i5-10210U   \n",
       "6       MSI Stealth 15M A11SDK-005PL FHD i7-1185G7   \n",
       "7       MSI Stealth 15M A11SDK-005PL FHD i7-1185G7   \n",
       "\n",
       "                         Monitor               Processor         RAM  \\\n",
       "0  15.6\" (1920 x 1080 (Full HD))  Intel® Core™ i5-1035G1   8 GB DDR4   \n",
       "1  15.6\" (1920 x 1080 (Full HD))  Intel® Core™ i5-1035G1   8 GB DDR4   \n",
       "2  15.6\" (1920 x 1080 (Full HD))  Intel® Core™ i5-10300H   8 GB DDR4   \n",
       "3  15.6\" (1920 x 1080 (Full HD))  Intel® Core™ i5-10300H   8 GB DDR4   \n",
       "4  15.6\" (1920 x 1080 (Full HD))      AMD Ryzen™ 5 3550H  16 GB DDR4   \n",
       "5    14\" (1920 x 1080 (Full HD))  Intel® Core™ i5-10210U  16 GB DDR3   \n",
       "6  15.6\" (1920 x 1080 (Full HD))  Intel® Core™ i7-1185G7  16 GB DDR4   \n",
       "7  15.6\" (1920 x 1080 (Full HD))  Intel® Core™ i7-1185G7  16 GB DDR4   \n",
       "\n",
       "                       Dysk                                          GPU  \\\n",
       "0  M.2 PCIe , NVMe , 512 GB               NVIDIA GeForce MX250 2GB GDDR5   \n",
       "1  M.2 PCIe , NVMe , 512 GB               NVIDIA GeForce MX250 2GB GDDR5   \n",
       "2  M.2 PCIe , NVMe , 512 GB     NVIDIA GeForce RTX 2060 Max-Q 6 GB GDDR6   \n",
       "3  M.2 PCIe , NVMe , 512 GB     NVIDIA GeForce RTX 2060 Max-Q 6 GB GDDR6   \n",
       "4       M.2 , NVMe , 512 GB            NVIDIA GeForce GTX 1650 4GB GDDR5   \n",
       "5  M.2 PCIe , NVMe , 512 GB      NVIDIA GeForce GTX 1650 Max-Q 4GB GDDR5   \n",
       "6  M.2 PCIe , NVMe , 512 GB  NVIDIA GeForce GTX 1660 Ti Max-Q 6 GB GDDR6   \n",
       "7  M.2 PCIe , NVMe , 512 GB  NVIDIA GeForce GTX 1660 Ti Max-Q 6 GB GDDR6   \n",
       "\n",
       "               System PriceMediaMarkt  PriceMorele  \n",
       "0  Windows 10 Home PL            3199      3099.00  \n",
       "1  Windows 10 Home PL            2599      3567.23  \n",
       "2  Windows 10 Home PL            4899      4518.15  \n",
       "3  Windows 10 Home PL            4899      4199.00  \n",
       "4  Windows 10 Home PL            4299      3669.18  \n",
       "5  Windows 10 Home PL            4299      4599.00  \n",
       "6  Windows 10 Home PL            4999      5405.94  \n",
       "7  Windows 10 Home PL            4999      5351.34  "
      ]
     },
     "execution_count": 26,
     "metadata": {},
     "output_type": "execute_result"
    }
   ],
   "source": [
    "itdentify"
   ]
  },
  {
   "cell_type": "code",
   "execution_count": null,
   "id": "f0d5365b",
   "metadata": {},
   "outputs": [],
   "source": []
  }
 ],
 "metadata": {
  "kernelspec": {
   "display_name": "Python 3",
   "language": "python",
   "name": "python3"
  },
  "language_info": {
   "codemirror_mode": {
    "name": "ipython",
    "version": 3
   },
   "file_extension": ".py",
   "mimetype": "text/x-python",
   "name": "python",
   "nbconvert_exporter": "python",
   "pygments_lexer": "ipython3",
   "version": "3.8.5"
  }
 },
 "nbformat": 4,
 "nbformat_minor": 5
}
