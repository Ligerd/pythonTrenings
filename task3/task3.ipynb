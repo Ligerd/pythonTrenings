{
 "cells": [
  {
   "cell_type": "code",
   "execution_count": 15,
   "id": "2c22fcb5",
   "metadata": {},
   "outputs": [],
   "source": [
    "import datetime\n",
    "import numpy as np\n",
    "import  decimal "
   ]
  },
  {
   "cell_type": "code",
   "execution_count": 16,
   "id": "36c54a16",
   "metadata": {},
   "outputs": [],
   "source": [
    "class Pojazd():\n",
    "    \n",
    "    def __init__(self, marka, model):\n",
    "        self.marka = marka\n",
    "        self.model = model\n",
    "    \n",
    "    def __str__(self):\n",
    "        return f'{self.marka} {self.model}'"
   ]
  },
  {
   "cell_type": "code",
   "execution_count": 17,
   "id": "529761b5",
   "metadata": {},
   "outputs": [],
   "source": [
    "class Element(Pojazd):\n",
    "    \n",
    "    def __init__(self,marka,model, kategoria, nazwaElemntu):\n",
    "        super().__init__(marka, model)\n",
    "        self.kategoria = kategoria\n",
    "        self.nazwaElemntu = nazwaElemntu\n",
    "    \n",
    "    def __str__(self):\n",
    "        return super().__str__()+\" \"+self.nazwaElemntu"
   ]
  },
  {
   "cell_type": "code",
   "execution_count": 18,
   "id": "ace2c6da",
   "metadata": {},
   "outputs": [],
   "source": [
    "class Samochód(Pojazd):\n",
    "    \n",
    "    def __init__(self, marka, model, rocznik):\n",
    "        super().__init__(marka,model)\n",
    "        self._licznik = None\n",
    "        self._paliwo = None\n",
    "        self.rocznik = rocznik\n",
    "    \n",
    "    def stanLicznika(self, stanLicznika):\n",
    "        self._licznik = stanLicznika\n",
    "    \n",
    "    def rodzajPaliwa(self, paliwo):\n",
    "        self._paliwo = paliwo\n",
    "    \n",
    "    def wiek(self):\n",
    "        now = datetime.datetime.now()\n",
    "        return now.year - self.rocznik\n",
    "    \n",
    "    def __str__(self):\n",
    "        if self._licznik is not None and self._paliwo is None:\n",
    "            return super().__str__()+ f\" wiek: {self.wiek()} lat {self._licznik} km\"\n",
    "        elif self._licznik is None and self._paliwo is not None:\n",
    "            return super().__str__()+ f\" wiek: {self.wiek()} lat {self._paliwo}\"\n",
    "        elif self._licznik is not None and self._paliwo is not None:\n",
    "            return super().__str__()+ f\" wiek: {self.wiek()} lat {self._licznik} km {self._paliwo}\"\n",
    "        else:\n",
    "            return super().__str__()+ f\" wiek: {self.wiek()} lat\""
   ]
  },
  {
   "cell_type": "code",
   "execution_count": 96,
   "id": "850fe628",
   "metadata": {},
   "outputs": [],
   "source": [
    "class Oferta():\n",
    "    def __init__(self, cena, *args):\n",
    "        self._data = datetime.datetime.now()        \n",
    "        self.cena = float(cena)\n",
    "        self.elementyOferty = args\n",
    "    \n",
    "    def __str__(self):\n",
    "        result = \"{:.2f}\".format(self.cena) + \" zł\"\n",
    "        elementy = \"\".join(\" + \" + element.__str__() for element in self.elementyOferty )        \n",
    "        return result + elementy[2:]"
   ]
  },
  {
   "cell_type": "code",
   "execution_count": 109,
   "id": "2b6eb123",
   "metadata": {},
   "outputs": [
    {
     "name": "stdout",
     "output_type": "stream",
     "text": [
      "VW Golf\n",
      "Nis Qashqai wiek: 6 lat\n",
      "Nissan QashQai Blotnik prawy przod\n",
      "17800.00 zł Nis Qashqai wiek: 6 lat\n",
      "17800.00 zł Nissan QashQai Blotnik prawy przod\n",
      "17800.00 zł Nis Qashqai wiek: 6 lat + Nissan QashQai Blotnik prawy przod\n",
      "nissan qweq wiek: 4 lat\n",
      "nissan qweq wiek: 4 lat 260000 km\n",
      "nissan qweq wiek: 4 lat 260000 km Benzyna\n",
      "Ford Mondeo 2.0 wiek: 7 lat\n",
      "Ford Mondeo 2.0 wiek: 7 lat Benzyna\n",
      "Ford Mondeo 2.0 wiek: 7 lat 950000000 km Benzyna\n"
     ]
    }
   ],
   "source": [
    "print(Pojazd('VW',\"Golf\"))\n",
    "a = Samochód(\"Nis\",\"Qashqai\", 2015)\n",
    "print(a)\n",
    "e = Element(\"Nissan\", \"QashQai\", \"Karoseria\",\"Blotnik prawy przod\")\n",
    "print(e)\n",
    "o1 = Oferta(17800,a)\n",
    "print(o1)\n",
    "o2 = Oferta(17800,e)\n",
    "print(o2)\n",
    "o3 = Oferta(17800,a,e)\n",
    "print(o3)\n",
    "a1=Samochód(\"nissan\",\"qweq\",2017)\n",
    "print(a1)\n",
    "a1.stanLicznika(260000)\n",
    "print(a1)\n",
    "a1.rodzajPaliwa(\"Benzyna\")\n",
    "print(a1)\n",
    "a2=Samochód(\"Ford\",\"Mondeo 2.0\",2014)\n",
    "print(a2)\n",
    "a2.rodzajPaliwa(\"Benzyna\")\n",
    "print(a2)\n",
    "a2.stanLicznika(950000000)\n",
    "print(a2)"
   ]
  }
 ],
 "metadata": {
  "kernelspec": {
   "display_name": "Python 3",
   "language": "python",
   "name": "python3"
  },
  "language_info": {
   "codemirror_mode": {
    "name": "ipython",
    "version": 3
   },
   "file_extension": ".py",
   "mimetype": "text/x-python",
   "name": "python",
   "nbconvert_exporter": "python",
   "pygments_lexer": "ipython3",
   "version": "3.8.5"
  }
 },
 "nbformat": 4,
 "nbformat_minor": 5
}
